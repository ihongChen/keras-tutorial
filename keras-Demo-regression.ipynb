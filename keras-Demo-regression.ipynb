{
 "cells": [
  {
   "cell_type": "markdown",
   "metadata": {},
   "source": [
    "# Keras 基本介紹\n",
    "[keras](https://keras.io/) 為基於[theano](http://deeplearning.net/software/theano/), [tensorflow](https://www.tensorflow.org/)上的深度學習工具包，比起前面兩者，語法上較為高階與方便使用，亦可以與原生(`tf/th`)的`API`做深度結合。\n",
    "\n",
    "本文利用`keras`來試作迴歸問題(linear regression)\n",
    "\n",
    "$ y = Sin(x) + 0.5x + \\epsilon$"
   ]
  },
  {
   "cell_type": "markdown",
   "metadata": {},
   "source": [
    "### 數據生成"
   ]
  },
  {
   "cell_type": "code",
   "execution_count": 1,
   "metadata": {
    "collapsed": false
   },
   "outputs": [],
   "source": [
    "import numpy as np  # 為一科學運算套件 tensorflow,theano只吃numpy的數據結構(N-d array)\n",
    "np.random.seed(0) # 使結果有可重現性\n",
    "import pandas as pd # dataframe套件\n",
    "import matplotlib.pyplot as plt # 繪圖工具\n",
    "%matplotlib inline"
   ]
  },
  {
   "cell_type": "code",
   "execution_count": 2,
   "metadata": {
    "collapsed": true
   },
   "outputs": [],
   "source": [
    "x = np.linspace(-10,10,200)\n",
    "np.random.shuffle(x) \n",
    "rand = np.random.randn(len(x))\n",
    "y = np.sin(x) +0.5*x +0.2*rand"
   ]
  },
  {
   "cell_type": "code",
   "execution_count": 3,
   "metadata": {
    "collapsed": false
   },
   "outputs": [
    {
     "name": "stdout",
     "output_type": "stream",
     "text": [
      "x 的數據型別:float64\n",
      "y 的數據型別:float64\n"
     ]
    }
   ],
   "source": [
    "print('x 的數據型別:{}'.format(x.dtype))\n",
    "print('y 的數據型別:{}'.format(y.dtype))"
   ]
  },
  {
   "cell_type": "code",
   "execution_count": 4,
   "metadata": {
    "collapsed": false
   },
   "outputs": [
    {
     "data": {
      "text/plain": [
       "<matplotlib.collections.PathCollection at 0xacc9f28>"
      ]
     },
     "execution_count": 4,
     "metadata": {},
     "output_type": "execute_result"
    },
    {
     "data": {
      "image/png": "[encoded data removed]",
      "text/plain": [
       "<matplotlib.figure.Figure at 0x54c7160>"
      ]
     },
     "metadata": {},
     "output_type": "display_data"
    }
   ],
   "source": [
    "plt.scatter(x,y)"
   ]
  },
  {
   "cell_type": "code",
   "execution_count": 5,
   "metadata": {
    "collapsed": false
   },
   "outputs": [
    {
     "data": {
      "text/html": [
       "<div>\n",
       "<table border=\"1\" class=\"dataframe\">\n",
       "  <thead>\n",
       "    <tr style=\"text-align: right;\">\n",
       "      <th></th>\n",
       "      <th>x</th>\n",
       "      <th>y</th>\n",
       "    </tr>\n",
       "  </thead>\n",
       "  <tbody>\n",
       "    <tr>\n",
       "      <th>0</th>\n",
       "      <td>-8.190955</td>\n",
       "      <td>-5.137030</td>\n",
       "    </tr>\n",
       "    <tr>\n",
       "      <th>1</th>\n",
       "      <td>7.085427</td>\n",
       "      <td>4.185645</td>\n",
       "    </tr>\n",
       "    <tr>\n",
       "      <th>2</th>\n",
       "      <td>0.753769</td>\n",
       "      <td>1.113223</td>\n",
       "    </tr>\n",
       "    <tr>\n",
       "      <th>3</th>\n",
       "      <td>-0.150754</td>\n",
       "      <td>-0.561830</td>\n",
       "    </tr>\n",
       "    <tr>\n",
       "      <th>4</th>\n",
       "      <td>7.788945</td>\n",
       "      <td>4.708999</td>\n",
       "    </tr>\n",
       "    <tr>\n",
       "      <th>5</th>\n",
       "      <td>8.291457</td>\n",
       "      <td>5.027708</td>\n",
       "    </tr>\n",
       "    <tr>\n",
       "      <th>6</th>\n",
       "      <td>-9.497487</td>\n",
       "      <td>-4.765354</td>\n",
       "    </tr>\n",
       "    <tr>\n",
       "      <th>7</th>\n",
       "      <td>4.673367</td>\n",
       "      <td>0.908774</td>\n",
       "    </tr>\n",
       "    <tr>\n",
       "      <th>8</th>\n",
       "      <td>-8.793970</td>\n",
       "      <td>-4.984775</td>\n",
       "    </tr>\n",
       "    <tr>\n",
       "      <th>9</th>\n",
       "      <td>5.276382</td>\n",
       "      <td>1.681419</td>\n",
       "    </tr>\n",
       "  </tbody>\n",
       "</table>\n",
       "</div>"
      ],
      "text/plain": [
       "          x         y\n",
       "0 -8.190955 -5.137030\n",
       "1  7.085427  4.185645\n",
       "2  0.753769  1.113223\n",
       "3 -0.150754 -0.561830\n",
       "4  7.788945  4.708999\n",
       "5  8.291457  5.027708\n",
       "6 -9.497487 -4.765354\n",
       "7  4.673367  0.908774\n",
       "8 -8.793970 -4.984775\n",
       "9  5.276382  1.681419"
      ]
     },
     "execution_count": 5,
     "metadata": {},
     "output_type": "execute_result"
    }
   ],
   "source": [
    "df = pd.DataFrame({'x':x,'y':y})\n",
    "df.head(10)"
   ]
  },
  {
   "cell_type": "markdown",
   "metadata": {},
   "source": [
    "_________________"
   ]
  },
  {
   "cell_type": "markdown",
   "metadata": {},
   "source": [
    "### 讀出資料"
   ]
  },
  {
   "cell_type": "code",
   "execution_count": 28,
   "metadata": {
    "collapsed": true
   },
   "outputs": [],
   "source": [
    "import pymssql \n",
    "import sqlalchemy "
   ]
  },
  {
   "cell_type": "code",
   "execution_count": 29,
   "metadata": {
    "collapsed": true
   },
   "outputs": [],
   "source": [
    "connect_r = lambda x:pymssql.connect('dbm_public','sa','01060728','test')\n",
    "conn_r = sqlalchemy.create_engine('mssql+pymssql://',creator=connect_r)"
   ]
  },
  {
   "cell_type": "code",
   "execution_count": 31,
   "metadata": {
    "collapsed": false
   },
   "outputs": [
    {
     "data": {
      "text/html": [
       "<div>\n",
       "<table border=\"1\" class=\"dataframe\">\n",
       "  <thead>\n",
       "    <tr style=\"text-align: right;\">\n",
       "      <th></th>\n",
       "      <th>x</th>\n",
       "      <th>y</th>\n",
       "      <th>ypred</th>\n",
       "    </tr>\n",
       "  </thead>\n",
       "  <tbody>\n",
       "    <tr>\n",
       "      <th>0</th>\n",
       "      <td>-8.190955</td>\n",
       "      <td>-5.137030</td>\n",
       "      <td>-4.526120</td>\n",
       "    </tr>\n",
       "    <tr>\n",
       "      <th>1</th>\n",
       "      <td>7.085427</td>\n",
       "      <td>4.185645</td>\n",
       "      <td>3.777802</td>\n",
       "    </tr>\n",
       "    <tr>\n",
       "      <th>2</th>\n",
       "      <td>0.753769</td>\n",
       "      <td>1.113223</td>\n",
       "      <td>1.187456</td>\n",
       "    </tr>\n",
       "    <tr>\n",
       "      <th>3</th>\n",
       "      <td>-0.150754</td>\n",
       "      <td>-0.561830</td>\n",
       "      <td>-0.148695</td>\n",
       "    </tr>\n",
       "    <tr>\n",
       "      <th>4</th>\n",
       "      <td>7.788945</td>\n",
       "      <td>4.708999</td>\n",
       "      <td>4.303621</td>\n",
       "    </tr>\n",
       "    <tr>\n",
       "      <th>5</th>\n",
       "      <td>8.291457</td>\n",
       "      <td>5.027708</td>\n",
       "      <td>4.679207</td>\n",
       "    </tr>\n",
       "    <tr>\n",
       "      <th>6</th>\n",
       "      <td>-9.497487</td>\n",
       "      <td>-4.765354</td>\n",
       "      <td>-5.234628</td>\n",
       "    </tr>\n",
       "    <tr>\n",
       "      <th>7</th>\n",
       "      <td>4.673367</td>\n",
       "      <td>0.908774</td>\n",
       "      <td>1.910946</td>\n",
       "    </tr>\n",
       "    <tr>\n",
       "      <th>8</th>\n",
       "      <td>-8.793970</td>\n",
       "      <td>-4.984775</td>\n",
       "      <td>-4.853124</td>\n",
       "    </tr>\n",
       "    <tr>\n",
       "      <th>9</th>\n",
       "      <td>5.276382</td>\n",
       "      <td>1.681419</td>\n",
       "      <td>2.379892</td>\n",
       "    </tr>\n",
       "    <tr>\n",
       "      <th>10</th>\n",
       "      <td>-3.869347</td>\n",
       "      <td>-1.173298</td>\n",
       "      <td>-1.300809</td>\n",
       "    </tr>\n",
       "    <tr>\n",
       "      <th>11</th>\n",
       "      <td>2.562814</td>\n",
       "      <td>1.713580</td>\n",
       "      <td>1.758501</td>\n",
       "    </tr>\n",
       "    <tr>\n",
       "      <th>12</th>\n",
       "      <td>8.090452</td>\n",
       "      <td>4.966903</td>\n",
       "      <td>4.528973</td>\n",
       "    </tr>\n",
       "    <tr>\n",
       "      <th>13</th>\n",
       "      <td>5.477387</td>\n",
       "      <td>2.225279</td>\n",
       "      <td>2.536207</td>\n",
       "    </tr>\n",
       "    <tr>\n",
       "      <th>14</th>\n",
       "      <td>-1.959799</td>\n",
       "      <td>-1.909883</td>\n",
       "      <td>-1.937045</td>\n",
       "    </tr>\n",
       "    <tr>\n",
       "      <th>15</th>\n",
       "      <td>-9.296482</td>\n",
       "      <td>-4.758301</td>\n",
       "      <td>-5.125627</td>\n",
       "    </tr>\n",
       "    <tr>\n",
       "      <th>16</th>\n",
       "      <td>-6.683417</td>\n",
       "      <td>-3.850206</td>\n",
       "      <td>-3.308713</td>\n",
       "    </tr>\n",
       "    <tr>\n",
       "      <th>17</th>\n",
       "      <td>3.065327</td>\n",
       "      <td>1.587716</td>\n",
       "      <td>1.611127</td>\n",
       "    </tr>\n",
       "    <tr>\n",
       "      <th>18</th>\n",
       "      <td>-6.281407</td>\n",
       "      <td>-2.990366</td>\n",
       "      <td>-2.938323</td>\n",
       "    </tr>\n",
       "    <tr>\n",
       "      <th>19</th>\n",
       "      <td>-2.562814</td>\n",
       "      <td>-1.979405</td>\n",
       "      <td>-1.803097</td>\n",
       "    </tr>\n",
       "    <tr>\n",
       "      <th>20</th>\n",
       "      <td>8.391960</td>\n",
       "      <td>5.027070</td>\n",
       "      <td>4.754324</td>\n",
       "    </tr>\n",
       "    <tr>\n",
       "      <th>21</th>\n",
       "      <td>4.572864</td>\n",
       "      <td>0.871166</td>\n",
       "      <td>1.832788</td>\n",
       "    </tr>\n",
       "    <tr>\n",
       "      <th>22</th>\n",
       "      <td>-5.477387</td>\n",
       "      <td>-2.223313</td>\n",
       "      <td>-2.197540</td>\n",
       "    </tr>\n",
       "    <tr>\n",
       "      <th>23</th>\n",
       "      <td>5.979899</td>\n",
       "      <td>2.587802</td>\n",
       "      <td>2.926996</td>\n",
       "    </tr>\n",
       "    <tr>\n",
       "      <th>24</th>\n",
       "      <td>-3.969849</td>\n",
       "      <td>-1.276531</td>\n",
       "      <td>-1.261465</td>\n",
       "    </tr>\n",
       "    <tr>\n",
       "      <th>25</th>\n",
       "      <td>2.361809</td>\n",
       "      <td>1.628734</td>\n",
       "      <td>1.811664</td>\n",
       "    </tr>\n",
       "    <tr>\n",
       "      <th>26</th>\n",
       "      <td>7.989950</td>\n",
       "      <td>5.282048</td>\n",
       "      <td>4.453856</td>\n",
       "    </tr>\n",
       "    <tr>\n",
       "      <th>27</th>\n",
       "      <td>8.592965</td>\n",
       "      <td>5.367492</td>\n",
       "      <td>4.904559</td>\n",
       "    </tr>\n",
       "    <tr>\n",
       "      <th>28</th>\n",
       "      <td>2.261307</td>\n",
       "      <td>1.901602</td>\n",
       "      <td>1.842750</td>\n",
       "    </tr>\n",
       "    <tr>\n",
       "      <th>29</th>\n",
       "      <td>-5.577889</td>\n",
       "      <td>-1.839518</td>\n",
       "      <td>-2.290137</td>\n",
       "    </tr>\n",
       "    <tr>\n",
       "      <th>...</th>\n",
       "      <td>...</td>\n",
       "      <td>...</td>\n",
       "      <td>...</td>\n",
       "    </tr>\n",
       "    <tr>\n",
       "      <th>170</th>\n",
       "      <td>-7.085427</td>\n",
       "      <td>-4.151604</td>\n",
       "      <td>-3.679105</td>\n",
       "    </tr>\n",
       "    <tr>\n",
       "      <th>171</th>\n",
       "      <td>-0.050251</td>\n",
       "      <td>0.343900</td>\n",
       "      <td>-0.025550</td>\n",
       "    </tr>\n",
       "    <tr>\n",
       "      <th>172</th>\n",
       "      <td>-1.758794</td>\n",
       "      <td>-2.037138</td>\n",
       "      <td>-1.987906</td>\n",
       "    </tr>\n",
       "    <tr>\n",
       "      <th>173</th>\n",
       "      <td>-2.060302</td>\n",
       "      <td>-1.999315</td>\n",
       "      <td>-1.915879</td>\n",
       "    </tr>\n",
       "    <tr>\n",
       "      <th>174</th>\n",
       "      <td>1.557789</td>\n",
       "      <td>1.609630</td>\n",
       "      <td>1.843220</td>\n",
       "    </tr>\n",
       "    <tr>\n",
       "      <th>175</th>\n",
       "      <td>4.874372</td>\n",
       "      <td>1.483023</td>\n",
       "      <td>2.067261</td>\n",
       "    </tr>\n",
       "    <tr>\n",
       "      <th>176</th>\n",
       "      <td>9.396985</td>\n",
       "      <td>4.785962</td>\n",
       "      <td>5.505497</td>\n",
       "    </tr>\n",
       "    <tr>\n",
       "      <th>177</th>\n",
       "      <td>-2.763819</td>\n",
       "      <td>-1.703228</td>\n",
       "      <td>-1.733588</td>\n",
       "    </tr>\n",
       "    <tr>\n",
       "      <th>178</th>\n",
       "      <td>-2.261307</td>\n",
       "      <td>-1.932735</td>\n",
       "      <td>-1.872935</td>\n",
       "    </tr>\n",
       "    <tr>\n",
       "      <th>179</th>\n",
       "      <td>-7.487437</td>\n",
       "      <td>-4.849192</td>\n",
       "      <td>-4.049496</td>\n",
       "    </tr>\n",
       "    <tr>\n",
       "      <th>180</th>\n",
       "      <td>6.582915</td>\n",
       "      <td>4.092521</td>\n",
       "      <td>3.395942</td>\n",
       "    </tr>\n",
       "    <tr>\n",
       "      <th>181</th>\n",
       "      <td>-1.859296</td>\n",
       "      <td>-2.057217</td>\n",
       "      <td>-1.957416</td>\n",
       "    </tr>\n",
       "    <tr>\n",
       "      <th>182</th>\n",
       "      <td>8.894472</td>\n",
       "      <td>5.131166</td>\n",
       "      <td>5.129910</td>\n",
       "    </tr>\n",
       "    <tr>\n",
       "      <th>183</th>\n",
       "      <td>7.487437</td>\n",
       "      <td>4.831691</td>\n",
       "      <td>4.078270</td>\n",
       "    </tr>\n",
       "    <tr>\n",
       "      <th>184</th>\n",
       "      <td>9.095477</td>\n",
       "      <td>4.875183</td>\n",
       "      <td>5.280145</td>\n",
       "    </tr>\n",
       "    <tr>\n",
       "      <th>185</th>\n",
       "      <td>-6.080402</td>\n",
       "      <td>-3.155455</td>\n",
       "      <td>-2.753126</td>\n",
       "    </tr>\n",
       "    <tr>\n",
       "      <th>186</th>\n",
       "      <td>-4.170854</td>\n",
       "      <td>-1.213420</td>\n",
       "      <td>-1.186879</td>\n",
       "    </tr>\n",
       "    <tr>\n",
       "      <th>187</th>\n",
       "      <td>4.070352</td>\n",
       "      <td>1.352721</td>\n",
       "      <td>1.445697</td>\n",
       "    </tr>\n",
       "    <tr>\n",
       "      <th>188</th>\n",
       "      <td>-1.155779</td>\n",
       "      <td>-1.444842</td>\n",
       "      <td>-1.423244</td>\n",
       "    </tr>\n",
       "    <tr>\n",
       "      <th>189</th>\n",
       "      <td>-2.964824</td>\n",
       "      <td>-1.817571</td>\n",
       "      <td>-1.654901</td>\n",
       "    </tr>\n",
       "    <tr>\n",
       "      <th>190</th>\n",
       "      <td>-1.256281</td>\n",
       "      <td>-1.591366</td>\n",
       "      <td>-1.550071</td>\n",
       "    </tr>\n",
       "    <tr>\n",
       "      <th>191</th>\n",
       "      <td>-6.381910</td>\n",
       "      <td>-3.276499</td>\n",
       "      <td>-3.030920</td>\n",
       "    </tr>\n",
       "    <tr>\n",
       "      <th>192</th>\n",
       "      <td>-7.889447</td>\n",
       "      <td>-4.894365</td>\n",
       "      <td>-4.362074</td>\n",
       "    </tr>\n",
       "    <tr>\n",
       "      <th>193</th>\n",
       "      <td>-9.095477</td>\n",
       "      <td>-5.022066</td>\n",
       "      <td>-5.016625</td>\n",
       "    </tr>\n",
       "    <tr>\n",
       "      <th>194</th>\n",
       "      <td>0.351759</td>\n",
       "      <td>0.860315</td>\n",
       "      <td>0.543579</td>\n",
       "    </tr>\n",
       "    <tr>\n",
       "      <th>195</th>\n",
       "      <td>-3.266332</td>\n",
       "      <td>-1.587299</td>\n",
       "      <td>-1.536870</td>\n",
       "    </tr>\n",
       "    <tr>\n",
       "      <th>196</th>\n",
       "      <td>9.296482</td>\n",
       "      <td>4.603686</td>\n",
       "      <td>5.430379</td>\n",
       "    </tr>\n",
       "    <tr>\n",
       "      <th>197</th>\n",
       "      <td>1.758794</td>\n",
       "      <td>2.078269</td>\n",
       "      <td>1.956466</td>\n",
       "    </tr>\n",
       "    <tr>\n",
       "      <th>198</th>\n",
       "      <td>-5.276382</td>\n",
       "      <td>-1.823020</td>\n",
       "      <td>-2.012345</td>\n",
       "    </tr>\n",
       "    <tr>\n",
       "      <th>199</th>\n",
       "      <td>7.286432</td>\n",
       "      <td>4.283478</td>\n",
       "      <td>3.928036</td>\n",
       "    </tr>\n",
       "  </tbody>\n",
       "</table>\n",
       "<p>200 rows × 3 columns</p>\n",
       "</div>"
      ],
      "text/plain": [
       "            x         y     ypred\n",
       "0   -8.190955 -5.137030 -4.526120\n",
       "1    7.085427  4.185645  3.777802\n",
       "2    0.753769  1.113223  1.187456\n",
       "3   -0.150754 -0.561830 -0.148695\n",
       "4    7.788945  4.708999  4.303621\n",
       "5    8.291457  5.027708  4.679207\n",
       "6   -9.497487 -4.765354 -5.234628\n",
       "7    4.673367  0.908774  1.910946\n",
       "8   -8.793970 -4.984775 -4.853124\n",
       "9    5.276382  1.681419  2.379892\n",
       "10  -3.869347 -1.173298 -1.300809\n",
       "11   2.562814  1.713580  1.758501\n",
       "12   8.090452  4.966903  4.528973\n",
       "13   5.477387  2.225279  2.536207\n",
       "14  -1.959799 -1.909883 -1.937045\n",
       "15  -9.296482 -4.758301 -5.125627\n",
       "16  -6.683417 -3.850206 -3.308713\n",
       "17   3.065327  1.587716  1.611127\n",
       "18  -6.281407 -2.990366 -2.938323\n",
       "19  -2.562814 -1.979405 -1.803097\n",
       "20   8.391960  5.027070  4.754324\n",
       "21   4.572864  0.871166  1.832788\n",
       "22  -5.477387 -2.223313 -2.197540\n",
       "23   5.979899  2.587802  2.926996\n",
       "24  -3.969849 -1.276531 -1.261465\n",
       "25   2.361809  1.628734  1.811664\n",
       "26   7.989950  5.282048  4.453856\n",
       "27   8.592965  5.367492  4.904559\n",
       "28   2.261307  1.901602  1.842750\n",
       "29  -5.577889 -1.839518 -2.290137\n",
       "..        ...       ...       ...\n",
       "170 -7.085427 -4.151604 -3.679105\n",
       "171 -0.050251  0.343900 -0.025550\n",
       "172 -1.758794 -2.037138 -1.987906\n",
       "173 -2.060302 -1.999315 -1.915879\n",
       "174  1.557789  1.609630  1.843220\n",
       "175  4.874372  1.483023  2.067261\n",
       "176  9.396985  4.785962  5.505497\n",
       "177 -2.763819 -1.703228 -1.733588\n",
       "178 -2.261307 -1.932735 -1.872935\n",
       "179 -7.487437 -4.849192 -4.049496\n",
       "180  6.582915  4.092521  3.395942\n",
       "181 -1.859296 -2.057217 -1.957416\n",
       "182  8.894472  5.131166  5.129910\n",
       "183  7.487437  4.831691  4.078270\n",
       "184  9.095477  4.875183  5.280145\n",
       "185 -6.080402 -3.155455 -2.753126\n",
       "186 -4.170854 -1.213420 -1.186879\n",
       "187  4.070352  1.352721  1.445697\n",
       "188 -1.155779 -1.444842 -1.423244\n",
       "189 -2.964824 -1.817571 -1.654901\n",
       "190 -1.256281 -1.591366 -1.550071\n",
       "191 -6.381910 -3.276499 -3.030920\n",
       "192 -7.889447 -4.894365 -4.362074\n",
       "193 -9.095477 -5.022066 -5.016625\n",
       "194  0.351759  0.860315  0.543579\n",
       "195 -3.266332 -1.587299 -1.536870\n",
       "196  9.296482  4.603686  5.430379\n",
       "197  1.758794  2.078269  1.956466\n",
       "198 -5.276382 -1.823020 -2.012345\n",
       "199  7.286432  4.283478  3.928036\n",
       "\n",
       "[200 rows x 3 columns]"
      ]
     },
     "execution_count": 31,
     "metadata": {},
     "output_type": "execute_result"
    }
   ],
   "source": [
    "df_read = pd.read_sql(u'select * from ihong_keras測試' ,conn_r)\n",
    "df_read"
   ]
  },
  {
   "cell_type": "code",
   "execution_count": 34,
   "metadata": {
    "collapsed": false
   },
   "outputs": [],
   "source": [
    "x = df_read['x'].values # 轉換成numpy array格式\n",
    "y = df_read['y'].values #"
   ]
  },
  {
   "cell_type": "markdown",
   "metadata": {},
   "source": [
    "### 切出訓練 / 測試資料"
   ]
  },
  {
   "cell_type": "code",
   "execution_count": 6,
   "metadata": {
    "collapsed": true
   },
   "outputs": [],
   "source": [
    "x_train,y_train = x[:160],y[:160]\n",
    "x_test,y_test = x[-40:],y[-40:]"
   ]
  },
  {
   "cell_type": "code",
   "execution_count": 7,
   "metadata": {
    "collapsed": false
   },
   "outputs": [
    {
     "data": {
      "text/plain": [
       "<matplotlib.legend.Legend at 0xad7f860>"
      ]
     },
     "execution_count": 7,
     "metadata": {},
     "output_type": "execute_result"
    },
    {
     "data": {
      "image/png": "[encoded data removed]",
      "text/plain": [
       "<matplotlib.figure.Figure at 0xac02940>"
      ]
     },
     "metadata": {},
     "output_type": "display_data"
    }
   ],
   "source": [
    "plt.scatter(x_train,y_train,color='r',label='train')\n",
    "plt.scatter(x_test,y_test,color='b',label='test')\n",
    "plt.legend()"
   ]
  },
  {
   "cell_type": "markdown",
   "metadata": {},
   "source": [
    "### 模型建立\n",
    "建立 1x60x60x1 的Feed-Forward神經元模型"
   ]
  },
  {
   "cell_type": "code",
   "execution_count": 8,
   "metadata": {
    "collapsed": false
   },
   "outputs": [
    {
     "name": "stderr",
     "output_type": "stream",
     "text": [
      "Using Theano backend.\n"
     ]
    }
   ],
   "source": [
    "from keras.models import Sequential \n",
    "from keras.layers.core import Dense\n",
    "from keras.optimizers import SGD"
   ]
  },
  {
   "cell_type": "code",
   "execution_count": 9,
   "metadata": {
    "collapsed": true
   },
   "outputs": [],
   "source": [
    "def base_model():\n",
    "    # to build fully-connected nn model\n",
    "    model = Sequential()\n",
    "    model.add(Dense(output_dim=60 , input_dim=1,activation='relu'))\n",
    "    model.add(Dense(output_dim=60,activation='relu'))\n",
    "    model.add(Dense(output_dim=1))\n",
    "    return model"
   ]
  },
  {
   "cell_type": "markdown",
   "metadata": {},
   "source": [
    "### 模型訓練"
   ]
  },
  {
   "cell_type": "code",
   "execution_count": 10,
   "metadata": {
    "collapsed": true
   },
   "outputs": [],
   "source": [
    "model = base_model()\n",
    "model.compile(loss = 'mse',optimizer='sgd',metrics=['accuracy'])"
   ]
  },
  {
   "cell_type": "code",
   "execution_count": 11,
   "metadata": {
    "collapsed": false
   },
   "outputs": [
    {
     "name": "stdout",
     "output_type": "stream",
     "text": [
      "Wall time: 21.9 s\n"
     ]
    },
    {
     "data": {
      "text/plain": [
       "<keras.callbacks.History at 0x1088cac8>"
      ]
     },
     "execution_count": 11,
     "metadata": {},
     "output_type": "execute_result"
    }
   ],
   "source": [
    "%time model.fit(x_train,y_train,nb_epoch=1000,batch_size=20,verbose=0)"
   ]
  },
  {
   "cell_type": "markdown",
   "metadata": {},
   "source": [
    "### 預測"
   ]
  },
  {
   "cell_type": "code",
   "execution_count": 12,
   "metadata": {
    "collapsed": false
   },
   "outputs": [
    {
     "data": {
      "text/plain": [
       "<matplotlib.legend.Legend at 0x10af6ba8>"
      ]
     },
     "execution_count": 12,
     "metadata": {},
     "output_type": "execute_result"
    },
    {
     "data": {
      "image/png": "[encoded data removed]",
      "text/plain": [
       "<matplotlib.figure.Figure at 0x108ffa58>"
      ]
     },
     "metadata": {},
     "output_type": "display_data"
    }
   ],
   "source": [
    "y_pred = model.predict(x)\n",
    "plt.scatter(x,y_pred,color = 'r',s=5 ,alpha=0.5,label='predict')\n",
    "plt.scatter(x,y,color='b',alpha = 0.7, s=1 ,label='training')\n",
    "plt.scatter(x_test,y_test,color = 'g', marker='o',label='testing')\n",
    "plt.legend(loc=4)"
   ]
  },
  {
   "cell_type": "code",
   "execution_count": 13,
   "metadata": {
    "collapsed": false
   },
   "outputs": [
    {
     "data": {
      "text/html": [
       "<div>\n",
       "<table border=\"1\" class=\"dataframe\">\n",
       "  <thead>\n",
       "    <tr style=\"text-align: right;\">\n",
       "      <th></th>\n",
       "      <th>x</th>\n",
       "      <th>y</th>\n",
       "      <th>ypred</th>\n",
       "    </tr>\n",
       "  </thead>\n",
       "  <tbody>\n",
       "    <tr>\n",
       "      <th>0</th>\n",
       "      <td>-8.190955</td>\n",
       "      <td>-5.137030</td>\n",
       "      <td>-4.526120</td>\n",
       "    </tr>\n",
       "    <tr>\n",
       "      <th>1</th>\n",
       "      <td>7.085427</td>\n",
       "      <td>4.185645</td>\n",
       "      <td>3.777802</td>\n",
       "    </tr>\n",
       "    <tr>\n",
       "      <th>2</th>\n",
       "      <td>0.753769</td>\n",
       "      <td>1.113223</td>\n",
       "      <td>1.187456</td>\n",
       "    </tr>\n",
       "    <tr>\n",
       "      <th>3</th>\n",
       "      <td>-0.150754</td>\n",
       "      <td>-0.561830</td>\n",
       "      <td>-0.148695</td>\n",
       "    </tr>\n",
       "    <tr>\n",
       "      <th>4</th>\n",
       "      <td>7.788945</td>\n",
       "      <td>4.708999</td>\n",
       "      <td>4.303621</td>\n",
       "    </tr>\n",
       "  </tbody>\n",
       "</table>\n",
       "</div>"
      ],
      "text/plain": [
       "          x         y     ypred\n",
       "0 -8.190955 -5.137030 -4.526120\n",
       "1  7.085427  4.185645  3.777802\n",
       "2  0.753769  1.113223  1.187456\n",
       "3 -0.150754 -0.561830 -0.148695\n",
       "4  7.788945  4.708999  4.303621"
      ]
     },
     "execution_count": 13,
     "metadata": {},
     "output_type": "execute_result"
    }
   ],
   "source": [
    "df['ypred'] = y_pred\n",
    "df.head()"
   ]
  },
  {
   "cell_type": "markdown",
   "metadata": {},
   "source": [
    "### 寫入資料"
   ]
  },
  {
   "cell_type": "code",
   "execution_count": 15,
   "metadata": {
    "collapsed": false
   },
   "outputs": [
    {
     "name": "stderr",
     "output_type": "stream",
     "text": [
      "C:\\Anaconda2\\lib\\site-packages\\sqlalchemy\\connectors\\pyodbc.py:82: SAWarning: No driver name specified; this is expected by PyODBC when using DSN-less connections\n",
      "  \"No driver name specified; \"\n"
     ]
    }
   ],
   "source": [
    "import pyodbc\n",
    "import sqlalchemy\n",
    "connect_w = lambda x:pyodbc.connect('DRIVER={SQL Server};SERVER=dbm_public;DATABASE=test;PWD=01060728;CHARSET=utf8;',\n",
    "                                     unicode_result=True)\n",
    "conn_w = sqlalchemy.create_engine('mssql://',creator=connect_w).connect()"
   ]
  },
  {
   "cell_type": "code",
   "execution_count": 27,
   "metadata": {
    "collapsed": false
   },
   "outputs": [
    {
     "data": {
      "text/plain": [
       "x        float64\n",
       "y        float64\n",
       "ypred    float32\n",
       "dtype: object"
      ]
     },
     "execution_count": 27,
     "metadata": {},
     "output_type": "execute_result"
    }
   ],
   "source": [
    "df.dtypes"
   ]
  },
  {
   "cell_type": "code",
   "execution_count": 17,
   "metadata": {
    "collapsed": true
   },
   "outputs": [],
   "source": [
    "df.to_sql(u'ihong_keras測試',conn_w,if_exists='replace',index=False) # 存入db, 不指定資料型態"
   ]
  }
 ],
 "metadata": {
  "anaconda-cloud": {},
  "kernelspec": {
   "display_name": "Python [default]",
   "language": "python",
   "name": "python2"
  },
  "language_info": {
   "codemirror_mode": {
    "name": "ipython",
    "version": 2
   },
   "file_extension": ".py",
   "mimetype": "text/x-python",
   "name": "python",
   "nbconvert_exporter": "python",
   "pygments_lexer": "ipython2",
   "version": "2.7.12"
  }
 },
 "nbformat": 4,
 "nbformat_minor": 1
}
