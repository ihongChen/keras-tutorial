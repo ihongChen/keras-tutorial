{
 "cells": [
  {
   "cell_type": "markdown",
   "metadata": {},
   "source": [
    "# 手寫辨識\n",
    "利用類神經網路(Feed-Forward Neural Network)實作分類問題"
   ]
  },
  {
   "cell_type": "markdown",
   "metadata": {},
   "source": [
    "### 資料引入"
   ]
  },
  {
   "cell_type": "code",
   "execution_count": 1,
   "metadata": {
    "collapsed": true
   },
   "outputs": [],
   "source": [
    "import preload_mnist\n",
    "import numpy as np \n",
    "import matplotlib.pyplot as plt \n",
    "%matplotlib inline"
   ]
  },
  {
   "cell_type": "code",
   "execution_count": 2,
   "metadata": {
    "collapsed": false
   },
   "outputs": [
    {
     "name": "stdout",
     "output_type": "stream",
     "text": [
      "魔数:2051, 图片数量: 60000张, 图片大小: 28*28\n",
      "已解析 10000张\n",
      "已解析 20000张\n",
      "已解析 30000张\n",
      "已解析 40000张\n",
      "已解析 50000张\n",
      "已解析 60000张\n",
      "魔数:2049, 图片数量: 60000张\n",
      "已解析 10000张\n",
      "已解析 20000张\n",
      "已解析 30000张\n",
      "已解析 40000张\n",
      "已解析 50000张\n",
      "已解析 60000张\n",
      "魔数:2051, 图片数量: 10000张, 图片大小: 28*28\n",
      "已解析 10000张\n",
      "魔数:2049, 图片数量: 10000张\n",
      "已解析 10000张\n"
     ]
    }
   ],
   "source": [
    "X_train,y_train,X_test,y_test = preload_mnist.run()"
   ]
  },
  {
   "cell_type": "code",
   "execution_count": 3,
   "metadata": {
    "collapsed": false
   },
   "outputs": [
    {
     "name": "stdout",
     "output_type": "stream",
     "text": [
      "shape of train-images: (60000L, 28L, 28L)\n",
      "shape of train-labels: (60000L,)\n",
      "shape of test-images: (10000L, 28L, 28L)\n",
      "shape of train-labels: (10000L,)\n"
     ]
    }
   ],
   "source": [
    "print 'shape of train-images:',X_train.shape\n",
    "print 'shape of train-labels:',y_train.shape\n",
    "print 'shape of test-images:',X_test.shape\n",
    "print 'shape of train-labels:',y_test.shape"
   ]
  },
  {
   "cell_type": "markdown",
   "metadata": {},
   "source": [
    "* 前十筆訓練標籤"
   ]
  },
  {
   "cell_type": "code",
   "execution_count": 4,
   "metadata": {
    "collapsed": false
   },
   "outputs": [
    {
     "data": {
      "text/plain": [
       "array([ 5.,  0.,  4.,  1.,  9.,  2.,  1.,  3.,  1.,  4.])"
      ]
     },
     "execution_count": 4,
     "metadata": {},
     "output_type": "execute_result"
    }
   ],
   "source": [
    "y_train[:10]"
   ]
  },
  {
   "cell_type": "code",
   "execution_count": 5,
   "metadata": {
    "collapsed": false
   },
   "outputs": [
    {
     "data": {
      "image/png": "[encoded data removed]",
      "text/plain": [
       "<matplotlib.figure.Figure at 0x88559b0>"
      ]
     },
     "metadata": {},
     "output_type": "display_data"
    }
   ],
   "source": [
    "plot_nums = 4\n",
    "\n",
    "for index in range(plot_nums):    \n",
    "    plt.subplot(2,2,index+1)\n",
    "    plt.imshow(X_train[index],cmap='gray',interpolation='nearest')\n",
    "    plt.title('label:{}'.format(y_train[index]))\n",
    "    plt.axis('off')"
   ]
  },
  {
   "cell_type": "markdown",
   "metadata": {},
   "source": [
    "### 建立模型"
   ]
  },
  {
   "cell_type": "markdown",
   "metadata": {},
   "source": [
    "* 引入套件"
   ]
  },
  {
   "cell_type": "code",
   "execution_count": 6,
   "metadata": {
    "collapsed": false
   },
   "outputs": [
    {
     "name": "stderr",
     "output_type": "stream",
     "text": [
      "Using Theano backend.\n"
     ]
    }
   ],
   "source": [
    "import keras \n",
    "np.random.seed(1337) \n",
    "from keras.models import Sequential\n",
    "from keras.layers.core import Dropout,Dense,Activation\n",
    "from keras.optimizers import SGD\n",
    "from keras.utils import np_utils"
   ]
  },
  {
   "cell_type": "markdown",
   "metadata": {},
   "source": [
    "* 將`28*28`的2維陣列(像素)拉成1維陣列"
   ]
  },
  {
   "cell_type": "code",
   "execution_count": 7,
   "metadata": {
    "collapsed": false
   },
   "outputs": [
    {
     "name": "stderr",
     "output_type": "stream",
     "text": [
      "C:\\Anaconda2\\lib\\site-packages\\keras\\utils\\np_utils.py:23: VisibleDeprecationWarning: using a non-integer number instead of an integer will result in an error in the future\n",
      "  Y[i, y[i]] = 1.\n"
     ]
    }
   ],
   "source": [
    "X_train = X_train.reshape(X_train.shape[0],28*28)\n",
    "y_train = np_utils.to_categorical(y_train,nb_classes=10)\n",
    "X_test = X_test.reshape(X_test.shape[0],28*28)\n",
    "y_test = np_utils.to_categorical(y_test,nb_classes=10)"
   ]
  },
  {
   "cell_type": "markdown",
   "metadata": {},
   "source": [
    "* 正規化"
   ]
  },
  {
   "cell_type": "code",
   "execution_count": 8,
   "metadata": {
    "collapsed": true
   },
   "outputs": [],
   "source": [
    "X_train = X_train.astype(np.float32)\n",
    "X_test = X_test.astype(np.float32)\n",
    "X_train /= 255\n",
    "X_test /= 255"
   ]
  },
  {
   "cell_type": "code",
   "execution_count": 9,
   "metadata": {
    "collapsed": false
   },
   "outputs": [
    {
     "data": {
      "image/png": "[encoded data removed]",
      "text/plain": [
       "<matplotlib.figure.Figure at 0x10402048>"
      ]
     },
     "metadata": {},
     "output_type": "display_data"
    }
   ],
   "source": [
    "plot_nums = 4\n",
    "\n",
    "for index in range(plot_nums):    \n",
    "    plt.subplot(2,2,index+1)\n",
    "    plt.imshow(X_train[index].reshape(28,28),cmap='gray',interpolation='nearest')\n",
    "#     plt.title('label:{}'.format(y_train[index]))\n",
    "    plt.axis('off')"
   ]
  },
  {
   "cell_type": "code",
   "execution_count": 10,
   "metadata": {
    "collapsed": false
   },
   "outputs": [],
   "source": [
    "def mlp_model():\n",
    "    model = Sequential()\n",
    "    model.add(Dense(output_dim=512,input_dim=28*28,activation='relu'))\n",
    "#     model.add(Dropout(0.5))\n",
    "    model.add(Dense(output_dim=512,activation='relu'))\n",
    "#     model.add(Dropout(0.5))\n",
    "    model.add(Dense(10,activation='softmax'))    \n",
    "    model.summary()\n",
    "    return model"
   ]
  },
  {
   "cell_type": "code",
   "execution_count": 63,
   "metadata": {
    "collapsed": false
   },
   "outputs": [
    {
     "name": "stdout",
     "output_type": "stream",
     "text": [
      "____________________________________________________________________________________________________\n",
      "Layer (type)                     Output Shape          Param #     Connected to                     \n",
      "====================================================================================================\n",
      "dense_4 (Dense)                  (None, 512)           401920      dense_input_3[0][0]              \n",
      "____________________________________________________________________________________________________\n",
      "dense_5 (Dense)                  (None, 512)           262656      dense_4[0][0]                    \n",
      "____________________________________________________________________________________________________\n",
      "dense_6 (Dense)                  (None, 10)            5130        dense_5[0][0]                    \n",
      "====================================================================================================\n",
      "Total params: 669706\n",
      "____________________________________________________________________________________________________\n"
     ]
    }
   ],
   "source": [
    "model = mlp_model()\n",
    "model.compile(\n",
    "    loss=\"categorical_crossentropy\",\n",
    "    optimizer = 'adam',\n",
    "    metrics=['accuracy']\n",
    ")"
   ]
  },
  {
   "cell_type": "code",
   "execution_count": 64,
   "metadata": {
    "collapsed": false
   },
   "outputs": [
    {
     "name": "stdout",
     "output_type": "stream",
     "text": [
      "Train on 60000 samples, validate on 10000 samples\n",
      "Epoch 1/10\n",
      "60000/60000 [==============================] - 55s - loss: 0.1855 - acc: 0.9428 - val_loss: 0.1007 - val_acc: 0.9681\n",
      "Epoch 2/10\n",
      "60000/60000 [==============================] - 60s - loss: 0.0836 - acc: 0.9743 - val_loss: 0.0927 - val_acc: 0.9730\n",
      "Epoch 3/10\n",
      "60000/60000 [==============================] - 63s - loss: 0.0612 - acc: 0.9811 - val_loss: 0.0755 - val_acc: 0.9774\n",
      "Epoch 4/10\n",
      "60000/60000 [==============================] - 66s - loss: 0.0461 - acc: 0.9858 - val_loss: 0.0838 - val_acc: 0.9769\n",
      "Epoch 5/10\n",
      "60000/60000 [==============================] - 67s - loss: 0.0388 - acc: 0.9877 - val_loss: 0.0737 - val_acc: 0.9808\n",
      "Epoch 6/10\n",
      "60000/60000 [==============================] - 68s - loss: 0.0352 - acc: 0.9889 - val_loss: 0.1102 - val_acc: 0.9751\n",
      "Epoch 7/10\n",
      "60000/60000 [==============================] - 70s - loss: 0.0290 - acc: 0.9915 - val_loss: 0.1016 - val_acc: 0.9789\n",
      "Epoch 8/10\n",
      "60000/60000 [==============================] - 75s - loss: 0.0271 - acc: 0.9920 - val_loss: 0.1071 - val_acc: 0.9785\n",
      "Epoch 9/10\n",
      "60000/60000 [==============================] - 73s - loss: 0.0242 - acc: 0.9930 - val_loss: 0.0955 - val_acc: 0.9813\n",
      "Epoch 10/10\n",
      "60000/60000 [==============================] - 78s - loss: 0.0245 - acc: 0.9933 - val_loss: 0.1041 - val_acc: 0.9794\n"
     ]
    }
   ],
   "source": [
    "history = model.fit(X_train,y_train,nb_epoch=10,batch_size=20,verbose=1,\n",
    "         validation_data = (X_test,y_test))"
   ]
  },
  {
   "cell_type": "markdown",
   "metadata": {},
   "source": [
    "### 驗證與測試"
   ]
  },
  {
   "cell_type": "code",
   "execution_count": 57,
   "metadata": {
    "collapsed": false
   },
   "outputs": [
    {
     "data": {
      "text/plain": [
       "<matplotlib.legend.Legend at 0x15b89978>"
      ]
     },
     "execution_count": 57,
     "metadata": {},
     "output_type": "execute_result"
    },
    {
     "data": {
      "image/png": "[encoded data removed]",
      "text/plain": [
       "<matplotlib.figure.Figure at 0x158d7e10>"
      ]
     },
     "metadata": {},
     "output_type": "display_data"
    }
   ],
   "source": [
    "train_acc_hist = history.history['acc']\n",
    "val_acc_hist = history.history['val_acc']\n",
    "\n",
    "plt.plot(train_acc_hist,'--',label='train_acc')\n",
    "plt.plot(val_acc_hist,'--',color='r',label = 'val_acc')\n",
    "plt.ylabel('accurancy')\n",
    "plt.xlabel('epoch')\n",
    "plt.title('model accurancy')\n",
    "plt.legend()\n",
    "# print 'validation history:{}'.format(history.history['val_acc'])"
   ]
  },
  {
   "cell_type": "code",
   "execution_count": 56,
   "metadata": {
    "collapsed": false
   },
   "outputs": [
    {
     "data": {
      "text/plain": [
       "<matplotlib.legend.Legend at 0x158b10f0>"
      ]
     },
     "execution_count": 56,
     "metadata": {},
     "output_type": "execute_result"
    },
    {
     "data": {
      "image/png": "[encoded data removed]",
      "text/plain": [
       "<matplotlib.figure.Figure at 0xbc9f710>"
      ]
     },
     "metadata": {},
     "output_type": "display_data"
    }
   ],
   "source": [
    "train_loss_hist = history.history['loss']\n",
    "val_loss_hist = history.history['val_loss']\n",
    "\n",
    "plt.plot(train_loss_hist,'-',label='train_loss')\n",
    "plt.plot(val_loss_hist,'-',color='r',label='val_loss')\n",
    "plt.xlabel('epoch')\n",
    "plt.ylabel('loss')\n",
    "plt.title('model loss')\n",
    "plt.legend()"
   ]
  },
  {
   "cell_type": "code",
   "execution_count": 73,
   "metadata": {
    "collapsed": false
   },
   "outputs": [],
   "source": [
    "score = model.evaluate(X_test,y_test,verbose=0)"
   ]
  },
  {
   "cell_type": "code",
   "execution_count": 74,
   "metadata": {
    "collapsed": false
   },
   "outputs": [
    {
     "name": "stdout",
     "output_type": "stream",
     "text": [
      "test score: 0.14\n",
      "test accuracy: 0.98\n"
     ]
    }
   ],
   "source": [
    "print 'test score: %.2f'%score[0]\n",
    "print 'test accuracy: %.2f' %score[1]"
   ]
  },
  {
   "cell_type": "markdown",
   "metadata": {},
   "source": [
    "### 模型儲存/取出"
   ]
  },
  {
   "cell_type": "code",
   "execution_count": 84,
   "metadata": {
    "collapsed": false
   },
   "outputs": [],
   "source": [
    "filepath = './model/mlp-mnist2.h5'\n",
    "model.save(filepath)"
   ]
  },
  {
   "cell_type": "code",
   "execution_count": 13,
   "metadata": {
    "collapsed": false
   },
   "outputs": [],
   "source": [
    "from keras.models import load_model"
   ]
  },
  {
   "cell_type": "code",
   "execution_count": 15,
   "metadata": {
    "collapsed": false
   },
   "outputs": [],
   "source": [
    "temp_model = load_model('./model/mlp-mnist.h5')"
   ]
  },
  {
   "cell_type": "code",
   "execution_count": 18,
   "metadata": {
    "collapsed": false
   },
   "outputs": [],
   "source": [
    "ypred = temp_model.predict(X_test)\n"
   ]
  },
  {
   "cell_type": "markdown",
   "metadata": {},
   "source": [
    "* 隨機4筆測試資料的預測值"
   ]
  },
  {
   "cell_type": "code",
   "execution_count": 65,
   "metadata": {
    "collapsed": false
   },
   "outputs": [
    {
     "data": {
      "image/png": "[encoded data removed]",
      "text/plain": [
       "<matplotlib.figure.Figure at 0x152aec88>"
      ]
     },
     "metadata": {},
     "output_type": "display_data"
    }
   ],
   "source": [
    "plot_nums = 4 # 畫4張圖\n",
    "rand = np.random.randint(200) #隨機取正整數\n",
    "for index in range(plot_nums):    \n",
    "    plt.subplot(2,2,index+1)\n",
    "    plt.imshow(X_test[index+rand].reshape(28,28),cmap='gray',interpolation='nearest')\n",
    "    \n",
    "    y_pred = ypred[index+rand].argsort()[-1] #預測值\n",
    "    plt.title('predict:{}'.format(y_pred)) \n",
    "    plt.axis('off')"
   ]
  }
 ],
 "metadata": {
  "anaconda-cloud": {},
  "kernelspec": {
   "display_name": "Python [default]",
   "language": "python",
   "name": "python2"
  },
  "language_info": {
   "codemirror_mode": {
    "name": "ipython",
    "version": 2
   },
   "file_extension": ".py",
   "mimetype": "text/x-python",
   "name": "python",
   "nbconvert_exporter": "python",
   "pygments_lexer": "ipython2",
   "version": "2.7.12"
  }
 },
 "nbformat": 4,
 "nbformat_minor": 1
}
