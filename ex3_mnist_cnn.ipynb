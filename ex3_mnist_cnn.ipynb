{
 "cells": [
  {
   "cell_type": "markdown",
   "metadata": {},
   "source": [
    "# MNIST \n",
    "with CNN"
   ]
  },
  {
   "cell_type": "code",
   "execution_count": 4,
   "metadata": {
    "collapsed": true
   },
   "outputs": [],
   "source": [
    "import numpy as np \n",
    "import keras \n",
    "from keras.datasets import mnist\n",
    "from keras.models import Sequential\n",
    "from keras.layers import Dense, Dropout, Activation,Flatten\n",
    "from keras.layers import Convolution2D, MaxPooling2D\n",
    "from keras.utils import np_utils\n",
    "from keras import backend as K"
   ]
  },
  {
   "cell_type": "markdown",
   "metadata": {},
   "source": [
    "* model setting/ params"
   ]
  },
  {
   "cell_type": "code",
   "execution_count": 18,
   "metadata": {
    "collapsed": true
   },
   "outputs": [],
   "source": [
    "np.random.seed(1337)"
   ]
  },
  {
   "cell_type": "code",
   "execution_count": 2,
   "metadata": {
    "collapsed": true
   },
   "outputs": [],
   "source": [
    "batch_size = 200;\n",
    "nb_classes = 10;\n",
    "nb_epoch = 12"
   ]
  },
  {
   "cell_type": "code",
   "execution_count": 3,
   "metadata": {
    "collapsed": true
   },
   "outputs": [],
   "source": [
    "img_rows,img_cols = 28,28\n",
    "nb_filter = 32 # number of cnn filters\n",
    "pool_size = (2,2) # size of pooling area for max pooling\n",
    "kernal_size = (3,3) # cnn kernal size"
   ]
  },
  {
   "cell_type": "markdown",
   "metadata": {},
   "source": [
    "* Splitting train/test data "
   ]
  },
  {
   "cell_type": "code",
   "execution_count": 6,
   "metadata": {
    "collapsed": true
   },
   "outputs": [],
   "source": [
    "# the data, shuffled and split betwween train and test sets\n",
    "(X_train,y_train), (X_test,y_test) = mnist.load_data()\n",
    "\n",
    "# using tf as backend \n",
    "X_train = X_train.reshape(X_train.shape[0],img_rows,img_cols,1)\n",
    "X_test = X_test.reshape(X_test.shape[0],img_rows,img_cols,1)\n",
    "input_shape = (img_rows,img_cols,1)"
   ]
  },
  {
   "cell_type": "code",
   "execution_count": 11,
   "metadata": {
    "collapsed": false
   },
   "outputs": [
    {
     "name": "stdout",
     "output_type": "stream",
     "text": [
      "X_train shape: (60000, 28, 28, 1)\n",
      "train samples: 60000\n",
      "test samples: 10000\n"
     ]
    }
   ],
   "source": [
    "X_train = X_train.astype('float32')\n",
    "X_test = X_test.astype('float32')\n",
    "X_train /= 255\n",
    "X_test /= 255\n",
    "print 'X_train shape:',X_train.shape\n",
    "print 'train samples:',X_train.shape[0]\n",
    "print 'test samples:',X_test.shape[0]"
   ]
  },
  {
   "cell_type": "code",
   "execution_count": 12,
   "metadata": {
    "collapsed": true
   },
   "outputs": [],
   "source": [
    "Y_train = np_utils.to_categorical(y_train,nb_classes)\n",
    "Y_test = np_utils.to_categorical(y_test,nb_classes)"
   ]
  },
  {
   "cell_type": "markdown",
   "metadata": {},
   "source": [
    "* build model"
   ]
  },
  {
   "cell_type": "code",
   "execution_count": 14,
   "metadata": {
    "collapsed": true
   },
   "outputs": [],
   "source": [
    "model = Sequential()\n",
    "model.add(Convolution2D(nb_filter,kernal_size[0],kernal_size[1],\n",
    "                       border_mode='valid',\n",
    "                       input_shape=input_shape))\n",
    "model.add(Activation('relu'))\n",
    "model.add(Convolution2D(nb_filter,kernal_size[0],kernal_size[1]))\n",
    "model.add(Activation('relu'))\n",
    "model.add(MaxPooling2D(pool_size=pool_size))\n",
    "model.add(Dropout(0.25))\n",
    "\n",
    "model.add(Flatten())\n",
    "model.add(Dense(128))\n",
    "model.add(Activation('relu'))\n",
    "model.add(Dropout(0.5))\n",
    "model.add(Dense(nb_classes))\n",
    "model.add(Activation('softmax'))\n",
    "\n",
    "model.compile(loss='categorical_crossentropy',\n",
    "             optimizer='adadelta',\n",
    "             metrics=['accuracy'])"
   ]
  },
  {
   "cell_type": "markdown",
   "metadata": {},
   "source": [
    "* run trainer"
   ]
  },
  {
   "cell_type": "code",
   "execution_count": 16,
   "metadata": {
    "collapsed": false
   },
   "outputs": [
    {
     "name": "stdout",
     "output_type": "stream",
     "text": [
      "Train on 60000 samples, validate on 10000 samples\n",
      "Epoch 1/12\n",
      "60000/60000 [==============================] - 132s - loss: 0.4825 - acc: 0.8502 - val_loss: 0.1102 - val_acc: 0.9651\n",
      "Epoch 2/12\n",
      "60000/60000 [==============================] - 130s - loss: 0.1610 - acc: 0.9535 - val_loss: 0.0719 - val_acc: 0.9779\n",
      "Epoch 3/12\n",
      "60000/60000 [==============================] - 131s - loss: 0.1186 - acc: 0.9648 - val_loss: 0.0560 - val_acc: 0.9822\n",
      "Epoch 4/12\n",
      "60000/60000 [==============================] - 131s - loss: 0.0986 - acc: 0.9718 - val_loss: 0.0469 - val_acc: 0.9851\n",
      "Epoch 5/12\n",
      "60000/60000 [==============================] - 134s - loss: 0.0871 - acc: 0.9744 - val_loss: 0.0430 - val_acc: 0.9853\n",
      "Epoch 6/12\n",
      "60000/60000 [==============================] - 132s - loss: 0.0751 - acc: 0.9775 - val_loss: 0.0396 - val_acc: 0.9866\n",
      "Epoch 7/12\n",
      "60000/60000 [==============================] - 132s - loss: 0.0691 - acc: 0.9794 - val_loss: 0.0364 - val_acc: 0.9885\n",
      "Epoch 8/12\n",
      "60000/60000 [==============================] - 131s - loss: 0.0625 - acc: 0.9817 - val_loss: 0.0354 - val_acc: 0.9890\n",
      "Epoch 9/12\n",
      "60000/60000 [==============================] - 133s - loss: 0.0608 - acc: 0.9827 - val_loss: 0.0323 - val_acc: 0.9888\n",
      "Epoch 10/12\n",
      "60000/60000 [==============================] - 136s - loss: 0.0542 - acc: 0.9841 - val_loss: 0.0340 - val_acc: 0.9878\n",
      "Epoch 11/12\n",
      "60000/60000 [==============================] - 133s - loss: 0.0523 - acc: 0.9844 - val_loss: 0.0317 - val_acc: 0.9892\n",
      "Epoch 12/12\n",
      "60000/60000 [==============================] - 136s - loss: 0.0497 - acc: 0.9847 - val_loss: 0.0304 - val_acc: 0.9898\n"
     ]
    },
    {
     "data": {
      "text/plain": [
       "<keras.callbacks.History at 0x7f79470d5e50>"
      ]
     },
     "execution_count": 16,
     "metadata": {},
     "output_type": "execute_result"
    }
   ],
   "source": [
    "model.fit(X_train,Y_train,batch_size=batch_size,verbose=1,\n",
    "         nb_epoch=nb_epoch, validation_data = (X_test,Y_test))\n"
   ]
  },
  {
   "cell_type": "markdown",
   "metadata": {},
   "source": [
    "* eval test"
   ]
  },
  {
   "cell_type": "code",
   "execution_count": 17,
   "metadata": {
    "collapsed": false
   },
   "outputs": [
    {
     "name": "stdout",
     "output_type": "stream",
     "text": [
      "('Test score:', 0.030404572636817465)\n",
      "('Test accuracy:', 0.98980000000000001)\n"
     ]
    }
   ],
   "source": [
    "score = model.evaluate(X_test, Y_test, verbose=0)\n",
    "print('Test score:', score[0])\n",
    "print('Test accuracy:', score[1])"
   ]
  }
 ],
 "metadata": {
  "kernelspec": {
   "display_name": "Python [default]",
   "language": "python",
   "name": "python2"
  },
  "language_info": {
   "codemirror_mode": {
    "name": "ipython",
    "version": 2
   },
   "file_extension": ".py",
   "mimetype": "text/x-python",
   "name": "python",
   "nbconvert_exporter": "python",
   "pygments_lexer": "ipython2",
   "version": "2.7.12"
  }
 },
 "nbformat": 4,
 "nbformat_minor": 1
}
