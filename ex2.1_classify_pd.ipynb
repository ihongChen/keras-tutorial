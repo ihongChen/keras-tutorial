{
 "cells": [
  {
   "cell_type": "code",
   "execution_count": 47,
   "metadata": {
    "collapsed": false
   },
   "outputs": [],
   "source": [
    "import keras \n",
    "%matplotlib inline"
   ]
  },
  {
   "cell_type": "code",
   "execution_count": 36,
   "metadata": {
    "collapsed": false
   },
   "outputs": [],
   "source": [
    "from keras.utils import np_utils\n",
    "import pandas as pd \n",
    "import numpy as np \n",
    "import seaborn as sns \n",
    "from keras.models import Sequential\n",
    "from keras.layers.core import Dense,Dropout"
   ]
  },
  {
   "cell_type": "code",
   "execution_count": 8,
   "metadata": {
    "collapsed": false
   },
   "outputs": [
    {
     "data": {
      "text/html": [
       "<div>\n",
       "<table border=\"1\" class=\"dataframe\">\n",
       "  <thead>\n",
       "    <tr style=\"text-align: right;\">\n",
       "      <th></th>\n",
       "      <th>x</th>\n",
       "      <th>y</th>\n",
       "      <th>class</th>\n",
       "    </tr>\n",
       "  </thead>\n",
       "  <tbody>\n",
       "    <tr>\n",
       "      <th>0</th>\n",
       "      <td>0</td>\n",
       "      <td>0</td>\n",
       "      <td>0</td>\n",
       "    </tr>\n",
       "    <tr>\n",
       "      <th>1</th>\n",
       "      <td>1</td>\n",
       "      <td>1</td>\n",
       "      <td>0</td>\n",
       "    </tr>\n",
       "    <tr>\n",
       "      <th>2</th>\n",
       "      <td>2</td>\n",
       "      <td>2</td>\n",
       "      <td>0</td>\n",
       "    </tr>\n",
       "    <tr>\n",
       "      <th>3</th>\n",
       "      <td>3</td>\n",
       "      <td>3</td>\n",
       "      <td>0</td>\n",
       "    </tr>\n",
       "    <tr>\n",
       "      <th>4</th>\n",
       "      <td>4</td>\n",
       "      <td>4</td>\n",
       "      <td>0</td>\n",
       "    </tr>\n",
       "    <tr>\n",
       "      <th>5</th>\n",
       "      <td>5</td>\n",
       "      <td>5</td>\n",
       "      <td>1</td>\n",
       "    </tr>\n",
       "    <tr>\n",
       "      <th>6</th>\n",
       "      <td>6</td>\n",
       "      <td>6</td>\n",
       "      <td>1</td>\n",
       "    </tr>\n",
       "    <tr>\n",
       "      <th>7</th>\n",
       "      <td>7</td>\n",
       "      <td>7</td>\n",
       "      <td>1</td>\n",
       "    </tr>\n",
       "    <tr>\n",
       "      <th>8</th>\n",
       "      <td>8</td>\n",
       "      <td>8</td>\n",
       "      <td>1</td>\n",
       "    </tr>\n",
       "    <tr>\n",
       "      <th>9</th>\n",
       "      <td>9</td>\n",
       "      <td>9</td>\n",
       "      <td>1</td>\n",
       "    </tr>\n",
       "  </tbody>\n",
       "</table>\n",
       "</div>"
      ],
      "text/plain": [
       "   x  y  class\n",
       "0  0  0      0\n",
       "1  1  1      0\n",
       "2  2  2      0\n",
       "3  3  3      0\n",
       "4  4  4      0\n",
       "5  5  5      1\n",
       "6  6  6      1\n",
       "7  7  7      1\n",
       "8  8  8      1\n",
       "9  9  9      1"
      ]
     },
     "execution_count": 8,
     "metadata": {},
     "output_type": "execute_result"
    }
   ],
   "source": [
    "data = np.array([\n",
    "    [0, 0, 0],\n",
    "    [1, 1, 0],\n",
    "    [2, 2, 0],\n",
    "    [3, 3, 0],\n",
    "    [4, 4, 0],\n",
    "    [5, 5, 1],\n",
    "    [6, 6, 1],\n",
    "    [7, 7, 1],\n",
    "    [8, 8, 1],\n",
    "    [9, 9, 1],\n",
    "])\n",
    "data = np.vstack((data,data,data,data))\n",
    "data = pd.DataFrame(data,columns=['x','y','class'])\n",
    "data.head(10)"
   ]
  },
  {
   "cell_type": "code",
   "execution_count": 32,
   "metadata": {
    "collapsed": false
   },
   "outputs": [],
   "source": [
    "X = data.iloc[:,:-1].values # numpy array\n",
    "y = data.iloc[:,-1:].values"
   ]
  },
  {
   "cell_type": "code",
   "execution_count": 37,
   "metadata": {
    "collapsed": false
   },
   "outputs": [
    {
     "name": "stdout",
     "output_type": "stream",
     "text": [
      "('dimof_input: ', 2)\n",
      "('dimof_output: ', 2)\n"
     ]
    }
   ],
   "source": [
    "# Get dimensions of input and output\n",
    "dimof_input = X.shape[1]\n",
    "dimof_output = np.max(y) + 1\n",
    "print('dimof_input: ', dimof_input)\n",
    "print('dimof_output: ', dimof_output)\n",
    "\n",
    "# Set y categorical\n",
    "y = np_utils.to_categorical(y, dimof_output)"
   ]
  },
  {
   "cell_type": "code",
   "execution_count": 41,
   "metadata": {
    "collapsed": false
   },
   "outputs": [
    {
     "name": "stdout",
     "output_type": "stream",
     "text": [
      "('batch_size: ', 128)\n",
      "('dimof_middle: ', 100)\n",
      "('dropout: ', 0.2)\n",
      "('countof_epoch: ', 100)\n",
      "('verbose: ', 0)\n"
     ]
    }
   ],
   "source": [
    "# Set constants\n",
    "batch_size = 128\n",
    "dimof_middle = 100\n",
    "dropout = 0.2\n",
    "countof_epoch = 100\n",
    "verbose = 0\n",
    "print('batch_size: ', batch_size)\n",
    "print('dimof_middle: ', dimof_middle)\n",
    "print('dropout: ', dropout)\n",
    "print('countof_epoch: ', countof_epoch)\n",
    "print('verbose: ', verbose)\n"
   ]
  },
  {
   "cell_type": "code",
   "execution_count": 42,
   "metadata": {
    "collapsed": true
   },
   "outputs": [],
   "source": [
    "# Set model\n",
    "model = Sequential()\n",
    "model.add(Dense(dimof_middle, input_dim=dimof_input, init='uniform', activation='tanh'))\n",
    "model.add(Dropout(dropout))\n",
    "model.add(Dense(dimof_middle, init='uniform', activation='tanh'))\n",
    "model.add(Dropout(dropout))\n",
    "model.add(Dense(dimof_output, init='uniform', activation='softmax'))\n",
    "model.compile(loss='mse', optimizer='sgd', metrics=['accuracy'])\n"
   ]
  },
  {
   "cell_type": "code",
   "execution_count": 44,
   "metadata": {
    "collapsed": false
   },
   "outputs": [
    {
     "name": "stdout",
     "output_type": "stream",
     "text": [
      "('loss: ', 0.21051402390003204)\n",
      "('accuracy: ', 0.69999999999999996)\n"
     ]
    }
   ],
   "source": [
    "# Train\n",
    "model.fit(\n",
    "    X, y,\n",
    "    validation_split=0.2,\n",
    "    batch_size=batch_size, nb_epoch=countof_epoch, verbose=verbose)\n",
    "\n",
    "# Evaluate\n",
    "loss, accuracy = model.evaluate(X, y, verbose=verbose)\n",
    "print('loss: ', loss)\n",
    "print('accuracy: ', accuracy)\n",
    "\n"
   ]
  },
  {
   "cell_type": "code",
   "execution_count": 45,
   "metadata": {
    "collapsed": false
   },
   "outputs": [
    {
     "name": "stdout",
     "output_type": "stream",
     "text": [
      "('prediction of [1, 1]: ', array([0]))\n",
      "('prediction of [8, 8]: ', array([1]))\n"
     ]
    }
   ],
   "source": [
    "print('prediction of [1, 1]: ', model.predict_classes(np.array([[1, 1]]), verbose=verbose))\n",
    "print('prediction of [8, 8]: ', model.predict_classes(np.array([[8, 8]]), verbose=verbose))"
   ]
  },
  {
   "cell_type": "code",
   "execution_count": 48,
   "metadata": {
    "collapsed": false
   },
   "outputs": [
    {
     "data": {
      "text/plain": [
       "<seaborn.axisgrid.FacetGrid at 0x7fe8f7e4be10>"
      ]
     },
     "execution_count": 48,
     "metadata": {},
     "output_type": "execute_result"
    },
    {
     "data": {
      "image/png": "[encoded data removed]",
      "text/plain": [
       "<matplotlib.figure.Figure at 0x7fe8f7e4bd90>"
      ]
     },
     "metadata": {},
     "output_type": "display_data"
    },
    {
     "data": {
      "image/png": "[encoded data removed]",
      "text/plain": [
       "<matplotlib.figure.Figure at 0x7fe8f4348f10>"
      ]
     },
     "metadata": {},
     "output_type": "display_data"
    },
    {
     "data": {
      "image/png": "[encoded data removed]",
      "text/plain": [
       "<matplotlib.figure.Figure at 0x7fe8f42bb650>"
      ]
     },
     "metadata": {},
     "output_type": "display_data"
    }
   ],
   "source": [
    "# Plot\n",
    "sns.lmplot('x', 'y', data, 'class', fit_reg=False).set(title='Data')\n",
    "data_ = data.copy()\n",
    "data_['class'] = model.predict_classes(X, verbose=0)\n",
    "sns.lmplot('x', 'y', data_, 'class', fit_reg=False).set(title='Trained Result')\n",
    "data_['class'] = [ 'Error' if is_error else 'Non Error' for is_error in data['class'] != data_['class']]\n",
    "sns.lmplot('x', 'y', data_, 'class', fit_reg=False).set(title='Errors')"
   ]
  }
 ],
 "metadata": {
  "anaconda-cloud": {},
  "kernelspec": {
   "display_name": "Python [default]",
   "language": "python",
   "name": "python2"
  },
  "language_info": {
   "codemirror_mode": {
    "name": "ipython",
    "version": 2
   },
   "file_extension": ".py",
   "mimetype": "text/x-python",
   "name": "python",
   "nbconvert_exporter": "python",
   "pygments_lexer": "ipython2",
   "version": "2.7.12"
  }
 },
 "nbformat": 4,
 "nbformat_minor": 1
}
